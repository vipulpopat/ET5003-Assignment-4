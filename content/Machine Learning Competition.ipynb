{
 "cells": [
  {
   "cell_type": "markdown",
   "metadata": {},
   "source": [
    "## Overview\n",
    "\n",
    "Assignment 4 is a machine learning competition hosted in Kaggle.\n",
    "\n",
    "Participation of this competition is restricted to those with access to the link below:\n",
    "\n",
    "https://www.kaggle.com/t/6c1598659cd94feb97a409e995508adf\n",
    "\n",
    "This is a URL that can be shared around and re-used. Anyone who visits this link will be able to participate in the competition, so please don't share this link outside our Module.\n",
    "\n",
    "To participate at this competition, the **team representative** must use that link to register the  team. You must use your team name. Note that anyone is still able to view the details of this competition and the Leaderboard at this public link\n",
    "\n",
    "https://www.kaggle.com/c/sales-forecast-et5003-competition/\n",
    "\n",
    "\n",
    "It is the first time I organize a competition in Kaggle, so I hope that everything will work smoothly.\n",
    "\n",
    "The details about the competition, dataset, baseline notebook and the evaluation metric are in Kaggle (second link)\n",
    "\n",
    "The objective is not to win but to provide a good solution.\n",
    "\n"
   ]
  },
  {
   "cell_type": "markdown",
   "metadata": {},
   "source": [
    "### Task\n",
    "\n",
    "We have provided a **notebook** that implements a **baseline model** to solve the sales-forecast problem. The goal is to show you an initial path towards the solution. The performance of that baseline algorithm is not good so your goal is first to understand\n",
    "* why it is not working well\n",
    "* how to improve it\n",
    "\n",
    "We have listed a set of possible ideas to improve the algorithm, but you can follow other directions.\n",
    "\n",
    "The goal of this ML competition is  **modelling**, you need to think about how to build a general model that can address the sales-forecast problem. The problem is one-dimensional (for each Country), so it is not hard computationally and you can plot the data and plot the output of your model.\n",
    "The real challenge here is to think about a general probabilistic model (prior and likelihood), thinking about basis functions, linear, non-linear, periodic functions, model selection.\n",
    "\n",
    "### How can you verify if your model is good or not?\n",
    "We have provided a training dataset with the true label. However, you can also generate some data and test your model by assuming a hypothesis about sales trend (increasing, decreasing, linear, non-linear) and about the presence and type\n",
    "of seasonality. Sales have nonlinear trends, but we expect that they are quite smooth functions.\n",
    "\n",
    "This is what we did in the baseline model. We tried to generate data that are easy/difficult for our model and check its predictions. \n",
    "Probabilistic ML is about building generative model of the data (prior and likelihood), so when you write down your model you know your assumptions and you know the limits of your model that you can test by generating artificial data.\n",
    "\n",
    "\n",
    "### Output\n",
    "The goal of the competition in Kaggle is having fun. \n",
    "\n",
    "Your final output for Assignment 4 will be a notebook and we will mark that notebook.\n",
    "Each group has to upload a single notebook (the group leader is responsible to upload the notebook) in Sulis,  that describes your model, the performance and weak points of your model. \n",
    "We must be able to understand the details of your model and its performance without reading the Python code. So it is important that you add markdown cells describing the details of model and its performance. You have to write the notebook (and comments) thinking about a reader that doesn't know about the model you derived, so please explain what you are doing. You don't need to be too verbose but you must comment your model and your modelling decisions.\n",
    "\n",
    "\n",
    "Please use the following filename Assignment4_Groupname.ipynb (or a zip file) and at the top of your notebook report the *names and studentId* of all  members of your group.\n",
    "\n",
    "**Add a Summary:** the first section in your notebook should be a summary of the content of the notebook and it should include a comment about the results of your model(s). This section cannot exceed 300 words. \n",
    "\n",
    "### Progress-chart\n",
    "We will use the following progress-chart to assess task completion.\n",
    "Your goal is to implement a model that solve the task, a way to do that is to explore some of the ideas we listed at the end of the baseline model notebook and possibly propose new ideas.\n",
    "    * Beginning (30%): the new  model is different from (or an extension of)  baseline, but it has still several weak-points.\n",
    "    * Developing (75%): the probabilistic model is better than baseline, but it is not very reliable. Its performance strongly depends on modelling choices, tuning of priors parameters, thresholds etc..\n",
    "    * Accomplished (95%): the algorithm works well, it is reliable and general, and achieves a high accuracy in the test dataset.  \n",
    "    * Exemplary (100%): the algorithm includes some original modelling ideas and original ways of making decisions.\n",
    "\n",
    "In the above progress-chart, we mentioned as a criterion \"improving performance of the baseline model\". It may be that your model is potentially better than baseline but it does not really increase the accuracy.\n",
    "It may also be the case that you explore different solutions and at the end they don't perform well.\n",
    "If this is the case, we encourage you to write down the different models you tried (a description of the model, prior, likelihood etc. and a comment on the model performance).\n",
    "In other words,  accuracy is not the main criterion we use to evaluate your work. We are more interested in the model(s) and in the way you use that model to make decisions. You can accomplish the task even if your model does not have a good performance, but you showed that you tried different s. \n",
    "\n",
    "\n",
    "We won't grade the \"elegance\" of the code, but please keep the code clean and add comments (in the code and in markdown cells) so we can understand what you do.\n",
    "\n"
   ]
  },
  {
   "cell_type": "code",
   "execution_count": null,
   "metadata": {},
   "outputs": [],
   "source": []
  }
 ],
 "metadata": {
  "kernelspec": {
   "display_name": "Python 3",
   "language": "python",
   "name": "python3"
  },
  "language_info": {
   "codemirror_mode": {
    "name": "ipython",
    "version": 3
   },
   "file_extension": ".py",
   "mimetype": "text/x-python",
   "name": "python",
   "nbconvert_exporter": "python",
   "pygments_lexer": "ipython3",
   "version": "3.7.3"
  }
 },
 "nbformat": 4,
 "nbformat_minor": 2
}
