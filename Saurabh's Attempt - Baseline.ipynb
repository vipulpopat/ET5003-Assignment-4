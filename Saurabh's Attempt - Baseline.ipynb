{
 "cells": [
  {
   "cell_type": "code",
   "execution_count": 1,
   "metadata": {},
   "outputs": [],
   "source": [
    "import pymc3 as pm\n",
    "import numpy as np\n",
    "import matplotlib.pyplot as plt\n",
    "import pandas as pd\n",
    "%matplotlib inline\n",
    "\n",
    "#define  basis functions\n",
    "def make_basis(x):\n",
    "    # the components are 1,x, cos(2 \\pi x), sin(2 \\pi x)...\n",
    "    periodic = np.hstack([np.cos(2*np.pi*x),np.sin(2*np.pi*x),np.cos(4*np.pi*x),np.sin(4*np.pi*x),np.cos(6*np.pi*x),np.sin(6*np.pi*x),np.cos(8*np.pi*x),np.sin(8*np.pi*x),np.cos(10*np.pi*x),np.sin(10*np.pi*x),np.cos(12*np.pi*x),np.sin(12*np.pi*x)])\n",
    "    return np.hstack([np.ones((x.shape[0],1)),x, periodic ]) \n",
    "\n",
    "#  periodic basis starts at column:\n",
    "col_per = 2\n",
    "\n",
    "#baseline model\n",
    "def run_model(x,y,plot=False):    \n",
    "    H = make_basis(x.reshape(-1,1))\n",
    "    \n",
    "    #select non periodic components of the basis\n",
    "    H_np = H[:,0:col_per]\n",
    "\n",
    "    with pm.Model() as model:\n",
    "        #prior\n",
    "        w = pm.Normal('weights', mu=0, sd=50, shape=(H.shape[1],))\n",
    "        sigma = pm.HalfCauchy('sigma', 5)\n",
    "\n",
    "        #linear model\n",
    "        mu = pm.Deterministic('mu', pm.math.matrix_dot(H,w).T)\n",
    "\n",
    "        #likelihood\n",
    "        y_obs = pm.Normal('y', mu=mu, sd=sigma, observed=y)\n",
    "\n",
    "        #we can do  an approximated inference\n",
    "    with model:\n",
    "        inference = pm.ADVI()\n",
    "        approx = pm.fit(60000, method=inference)\n",
    "        \n",
    "    posterior = approx.sample(draws=500)\n",
    "    \n",
    "    if max(np.mean(posterior['weights'],axis=0)[2:]) > max(np.mean(posterior['weights'],axis=0)[0:2]):\n",
    "        prediction = np.dot(H_np,posterior['weights'][:,0:col_per].T).T\n",
    "    else:\n",
    "        prediction = np.dot(H,posterior['weights'].T).T\n",
    "    \n",
    "\n",
    "    Gradients = []\n",
    "    for i in range(prediction.shape[0]):\n",
    "        Gradients.append(np.min(np.gradient(prediction[i,:], x)))\n",
    "\n",
    "        \n",
    "    posterior_probability_deriviative_is_positive = len(np.where(np.array(Gradients)>0)[0])/len(Gradients)\n",
    "    print(\"probability that the function is increasing=\", posterior_probability_deriviative_is_positive)\n",
    "    if posterior_probability_deriviative_is_positive>0.95:\n",
    "        return 1\n",
    "    else:\n",
    "        return 0\n",
    "\n",
    "    \n",
    "#this is the inpu\n",
    "x = np.linspace(0,1,100)    "
   ]
  },
  {
   "cell_type": "code",
   "execution_count": 2,
   "metadata": {},
   "outputs": [
    {
     "data": {
      "text/plain": [
       "array([[ 1.00000000e+00,  0.00000000e+00,  1.00000000e+00, ...,\n",
       "         0.00000000e+00,  1.00000000e+00,  0.00000000e+00],\n",
       "       [ 1.00000000e+00,  1.01010101e-02,  9.97986676e-01, ...,\n",
       "         3.12033446e-01,  9.28367933e-01,  3.71662456e-01],\n",
       "       [ 1.00000000e+00,  2.02020202e-02,  9.91954813e-01, ...,\n",
       "         5.92907929e-01,  7.23734038e-01,  6.90079011e-01],\n",
       "       ...,\n",
       "       [ 1.00000000e+00,  9.79797980e-01,  9.91954813e-01, ...,\n",
       "        -5.92907929e-01,  7.23734038e-01, -6.90079011e-01],\n",
       "       [ 1.00000000e+00,  9.89898990e-01,  9.97986676e-01, ...,\n",
       "        -3.12033446e-01,  9.28367933e-01, -3.71662456e-01],\n",
       "       [ 1.00000000e+00,  1.00000000e+00,  1.00000000e+00, ...,\n",
       "        -1.22464680e-15,  1.00000000e+00, -1.46957616e-15]])"
      ]
     },
     "execution_count": 2,
     "metadata": {},
     "output_type": "execute_result"
    }
   ],
   "source": [
    "make_basis(x.reshape(-1,1))"
   ]
  },
  {
   "cell_type": "code",
   "execution_count": 3,
   "metadata": {},
   "outputs": [
    {
     "data": {
      "text/plain": [
       "array([[1.],\n",
       "       [1.],\n",
       "       [1.],\n",
       "       [1.],\n",
       "       [1.],\n",
       "       [1.],\n",
       "       [1.],\n",
       "       [1.],\n",
       "       [1.],\n",
       "       [1.],\n",
       "       [1.],\n",
       "       [1.],\n",
       "       [1.],\n",
       "       [1.],\n",
       "       [1.],\n",
       "       [1.],\n",
       "       [1.],\n",
       "       [1.],\n",
       "       [1.],\n",
       "       [1.],\n",
       "       [1.],\n",
       "       [1.],\n",
       "       [1.],\n",
       "       [1.],\n",
       "       [1.],\n",
       "       [1.],\n",
       "       [1.],\n",
       "       [1.],\n",
       "       [1.],\n",
       "       [1.],\n",
       "       [1.],\n",
       "       [1.],\n",
       "       [1.],\n",
       "       [1.],\n",
       "       [1.],\n",
       "       [1.],\n",
       "       [1.],\n",
       "       [1.],\n",
       "       [1.],\n",
       "       [1.],\n",
       "       [1.],\n",
       "       [1.],\n",
       "       [1.],\n",
       "       [1.],\n",
       "       [1.],\n",
       "       [1.],\n",
       "       [1.],\n",
       "       [1.],\n",
       "       [1.],\n",
       "       [1.],\n",
       "       [1.],\n",
       "       [1.],\n",
       "       [1.],\n",
       "       [1.],\n",
       "       [1.],\n",
       "       [1.],\n",
       "       [1.],\n",
       "       [1.],\n",
       "       [1.],\n",
       "       [1.],\n",
       "       [1.],\n",
       "       [1.],\n",
       "       [1.],\n",
       "       [1.],\n",
       "       [1.],\n",
       "       [1.],\n",
       "       [1.],\n",
       "       [1.],\n",
       "       [1.],\n",
       "       [1.],\n",
       "       [1.],\n",
       "       [1.],\n",
       "       [1.],\n",
       "       [1.],\n",
       "       [1.],\n",
       "       [1.],\n",
       "       [1.],\n",
       "       [1.],\n",
       "       [1.],\n",
       "       [1.],\n",
       "       [1.],\n",
       "       [1.],\n",
       "       [1.],\n",
       "       [1.],\n",
       "       [1.],\n",
       "       [1.],\n",
       "       [1.],\n",
       "       [1.],\n",
       "       [1.],\n",
       "       [1.],\n",
       "       [1.],\n",
       "       [1.],\n",
       "       [1.],\n",
       "       [1.],\n",
       "       [1.],\n",
       "       [1.],\n",
       "       [1.],\n",
       "       [1.],\n",
       "       [1.],\n",
       "       [1.]])"
      ]
     },
     "execution_count": 3,
     "metadata": {},
     "output_type": "execute_result"
    }
   ],
   "source": [
    "np.ones((x.shape[0],1))"
   ]
  },
  {
   "cell_type": "code",
   "execution_count": 4,
   "metadata": {},
   "outputs": [
    {
     "data": {
      "text/plain": [
       "[<matplotlib.lines.Line2D at 0x7fae4881d828>]"
      ]
     },
     "execution_count": 4,
     "metadata": {},
     "output_type": "execute_result"
    },
    {
     "data": {
      "image/png": "[encoded data removed]",
      "text/plain": [
       "<Figure size 432x288 with 1 Axes>"
      ]
     },
     "metadata": {
      "needs_background": "light"
     },
     "output_type": "display_data"
    }
   ],
   "source": [
    "y =  x + np.cos(4*np.pi*x) + np.random.randn(len(x))*0.2\n",
    "plt.plot(x,y)"
   ]
  },
  {
   "cell_type": "code",
   "execution_count": 5,
   "metadata": {},
   "outputs": [
    {
     "name": "stderr",
     "output_type": "stream",
     "text": [
      "Average Loss = 91.867: 100%|██████████| 60000/60000 [00:19<00:00, 3128.66it/s]\n",
      "Finished [100%]: Average Loss = 91.866\n"
     ]
    },
    {
     "name": "stdout",
     "output_type": "stream",
     "text": [
      "probability that the function is increasing= 1.0\n"
     ]
    },
    {
     "data": {
      "text/plain": [
       "1"
      ]
     },
     "execution_count": 5,
     "metadata": {},
     "output_type": "execute_result"
    }
   ],
   "source": [
    "run_model(x,y,plot=True)"
   ]
  },
  {
   "cell_type": "code",
   "execution_count": 6,
   "metadata": {},
   "outputs": [
    {
     "data": {
      "text/plain": [
       "[<matplotlib.lines.Line2D at 0x7fade8415ac8>]"
      ]
     },
     "execution_count": 6,
     "metadata": {},
     "output_type": "execute_result"
    },
    {
     "data": {
      "image/png": "[encoded data removed]",
      "text/plain": [
       "<Figure size 432x288 with 1 Axes>"
      ]
     },
     "metadata": {
      "needs_background": "light"
     },
     "output_type": "display_data"
    }
   ],
   "source": [
    "#toy example\n",
    "y =  x/2-2*np.exp(-(x-0.5)**2) + 2 + np.random.randn(len(x))*0.05\n",
    "plt.plot(x,y)"
   ]
  },
  {
   "cell_type": "code",
   "execution_count": 7,
   "metadata": {},
   "outputs": [
    {
     "name": "stderr",
     "output_type": "stream",
     "text": [
      "Average Loss = -38.616: 100%|██████████| 60000/60000 [00:15<00:00, 3767.02it/s] \n",
      "Finished [100%]: Average Loss = -38.61\n"
     ]
    },
    {
     "name": "stdout",
     "output_type": "stream",
     "text": [
      "probability that the function is increasing= 0.0\n"
     ]
    },
    {
     "data": {
      "text/plain": [
       "0"
      ]
     },
     "execution_count": 7,
     "metadata": {},
     "output_type": "execute_result"
    }
   ],
   "source": [
    "run_model(x,y, plot=True)"
   ]
  },
  {
   "cell_type": "code",
   "execution_count": 8,
   "metadata": {},
   "outputs": [
    {
     "name": "stdout",
     "output_type": "stream",
     "text": [
      "(75, 102)\n",
      "5\n",
      "5\n"
     ]
    }
   ],
   "source": [
    "x = np.linspace(0,1,100)\n",
    "train_df = pd.read_csv(\"./data/train.csv\")\n",
    "rows = train_df.shape[0] - 70\n",
    "actual = train_df.head(rows)['Category']\n",
    "\n",
    "print(train_df.shape)\n",
    "print(rows)\n",
    "print(actual.shape[0])"
   ]
  },
  {
   "cell_type": "code",
   "execution_count": null,
   "metadata": {},
   "outputs": [
    {
     "name": "stdout",
     "output_type": "stream",
     "text": [
      "Iteration: 0 of 5\n"
     ]
    },
    {
     "name": "stderr",
     "output_type": "stream",
     "text": [
      "Average Loss = 39,114:  25%|██▍       | 14818/60000 [00:05<00:16, 2707.78it/s]  "
     ]
    }
   ],
   "source": [
    "\n",
    "predicted = []\n",
    "for r in range(rows):\n",
    "    print(f'Iteration: {r} of {rows}')\n",
    "    id_row = train_df.iloc[r,0]\n",
    "    y = train_df.iloc[r,0:100].values[:,None]\n",
    "    decision = run_model(x,y)\n",
    "    predicted.append(decision)"
   ]
  },
  {
   "cell_type": "code",
   "execution_count": null,
   "metadata": {},
   "outputs": [],
   "source": [
    "print(predicted)\n",
    "\n",
    "from sklearn.metrics import confusion_matrix \n",
    "from sklearn.metrics import accuracy_score \n",
    "from sklearn.metrics import classification_report\n",
    "\n",
    "results = confusion_matrix(actual, predicted) \n",
    "print(results)\n",
    "print('Accuracy Score :', accuracy_score(actual, predicted))\n",
    "print ('The Report : ')\n",
    "print (classification_report(actual, predicted))"
   ]
  },
  {
   "cell_type": "code",
   "execution_count": null,
   "metadata": {},
   "outputs": [],
   "source": [
    "# x = np.linspace(0,1,100)\n",
    "# test_df = pd.read_csv(\"./data/test.csv\")\n",
    "\n",
    "\n",
    "# Decision = pd.DataFrame(columns=['Id','Category'])\n",
    "# for r in range(test_df.shape[0]):\n",
    "#     id_row = test_df.iloc[r,0]\n",
    "#     y = test_df.iloc[r,1:].values\n",
    "#     decision = run_model(x,y)\n",
    "#     Decision = Decision.append({'Id': int(id_row), 'Category': int(decision)}, ignore_index=True) \n",
    "#     print(Decision)\n",
    "# #     Decision.to_csv(\"Decision_baseline.csv\",  index=False)"
   ]
  },
  {
   "cell_type": "code",
   "execution_count": null,
   "metadata": {},
   "outputs": [],
   "source": [
    "# x = np.linspace(0,1,100)\n",
    "# test_df = pd.read_csv(\"./data/test.csv\")\n",
    "# test_df.head()"
   ]
  },
  {
   "cell_type": "code",
   "execution_count": null,
   "metadata": {},
   "outputs": [],
   "source": [
    "# test_df.iloc[0,1:].values"
   ]
  }
 ],
 "metadata": {
  "kernelspec": {
   "display_name": "Python 3",
   "language": "python",
   "name": "python3"
  },
  "language_info": {
   "codemirror_mode": {
    "name": "ipython",
    "version": 3
   },
   "file_extension": ".py",
   "mimetype": "text/x-python",
   "name": "python",
   "nbconvert_exporter": "python",
   "pygments_lexer": "ipython3",
   "version": "3.7.3"
  }
 },
 "nbformat": 4,
 "nbformat_minor": 2
}
