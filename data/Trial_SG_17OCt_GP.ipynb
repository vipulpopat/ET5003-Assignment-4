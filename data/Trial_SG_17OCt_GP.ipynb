{
 "cells": [
  {
   "cell_type": "code",
   "execution_count": null,
   "metadata": {
    "_cell_guid": "b1076dfc-b9ad-4769-8c92-a6c4dae69d19",
    "_uuid": "8f2839f25d086af736a60e9eeb907d3b93b6e0e5"
   },
   "outputs": [],
   "source": [
    "# This Python 3 environment comes with many helpful analytics libraries installed\n",
    "# It is defined by the kaggle/python docker image: https://github.com/kaggle/docker-python\n",
    "# For example, here's several helpful packages to load in \n",
    "\n",
    "import numpy as np # linear algebra\n",
    "import pandas as pd # data processing, CSV file I/O (e.g. pd.read_csv)\n",
    "import pymc3 as pm\n",
    "import matplotlib.pyplot as plt\n",
    "import seaborn as sns\n",
    "from scipy.stats import multivariate_normal\n",
    "\n",
    "# Input data files are available in the \"../input/\" directory.\n",
    "# For example, running this (by clicking run or pressing Shift+Enter) will list all files under the input directory\n",
    "\n",
    "import os\n",
    "for dirname, _, filenames in os.walk('/kaggle/input'):\n",
    "    for filename in filenames:\n",
    "        print(os.path.join(dirname, filename))\n",
    "\n",
    "# Any results you write to the current directory are saved as output."
   ]
  },
  {
   "cell_type": "code",
   "execution_count": null,
   "metadata": {
    "_cell_guid": "79c7e3d0-c299-4dcb-8224-4455121ee9b0",
    "_uuid": "d629ff2d2480ee46fbb7e2d37f6b5fab8052498a"
   },
   "outputs": [],
   "source": [
    "train = pd.read_csv('/kaggle/input/sales-forecast-et5003-competition/train.csv')\n",
    "train.iloc[5:10,:]"
   ]
  },
  {
   "cell_type": "code",
   "execution_count": null,
   "metadata": {},
   "outputs": [],
   "source": [
    "X = np.linspace(0,1,100)[:,None]\n",
    "Y = train.iloc[18,1:101].values[:,None]\n",
    "plt.plot(X, Y)"
   ]
  },
  {
   "cell_type": "code",
   "execution_count": null,
   "metadata": {},
   "outputs": [],
   "source": [
    "X = np.linspace(0,1,100)\n",
    "Y =  X/2-2*np.exp(-(X-0.5)**2) + 2 + np.random.randn(len(X))*0.05\n",
    "X = X[:,None]\n",
    "Y = Y[:, None]\n",
    "plt.plot(X,Y)"
   ]
  },
  {
   "cell_type": "code",
   "execution_count": null,
   "metadata": {},
   "outputs": [],
   "source": []
  },
  {
   "cell_type": "code",
   "execution_count": null,
   "metadata": {},
   "outputs": [],
   "source": [
    "with pm.Model() as model:\n",
    "    #  periodic component x \n",
    "#     η_per = pm.HalfCauchy(\"η_per\", beta=2, testval=1.0)\n",
    "#     period  = pm.Normal(\"period\", mu=1, sigma=3)\n",
    "#     ℓ_psmooth = pm.Gamma(\"ℓ_psmooth \", alpha=1, beta=1)\n",
    "    \n",
    "    η_true  = pm.Normal(\"η_true\", mu=1, sigma=3)\n",
    "    ℓ_true  = pm.Normal(\"ℓ_true\", mu=1, sigma=3)\n",
    "\n",
    "    \n",
    "#     cov_seasonal = η_per**2 * pm.gp.cov.Periodic(1, period, ℓ_psmooth)  \n",
    "    cov_seasonal = η_true**2 * pm.gp.cov.ExpQuad(1, ℓ_true)\n",
    "    gp1 = pm.gp.Marginal(cov_func=cov_seasonal)\n",
    "    \n",
    "    #  linear component x \n",
    "#     tau = pm.HalfCauchy(\"tau\", beta=2, testval=1.0)\n",
    "#     c  = pm.Normal(\"c\", mu=0, sigma=1) \n",
    "    \n",
    "#     cov_linear = tau * pm.gp.cov.Linear(1, c)  \n",
    "    cov_linear = η_true**2 * pm.gp.cov.Matern32(1, ℓ_true)\n",
    "    gp2 = pm.gp.Marginal(cov_func=cov_linear)\n",
    "    \n",
    "    # gp represents f1 + f2.\n",
    "    gp = gp1 + gp2\n",
    "    \n",
    "    # noise model\n",
    "    sigma = pm.HalfCauchy(\"sigma\", beta=5, testval=0.1)\n",
    "    f = gp.marginal_likelihood(\"f\", X, Y[:,0], noise=sigma)\n",
    "    \n",
    "    # this line calls an optimizer to optimize the marginal likelihood\n",
    "    mp = pm.find_MAP(include_transformed=True)"
   ]
  },
  {
   "cell_type": "code",
   "execution_count": null,
   "metadata": {},
   "outputs": [],
   "source": [
    "#optimized parameters\n",
    "sorted([name+\":\"+str(mp[name]) for name in mp.keys() if not name.endswith(\"_\")])"
   ]
  },
  {
   "cell_type": "code",
   "execution_count": null,
   "metadata": {},
   "outputs": [],
   "source": [
    "X_new = np.linspace(0, 1, 100)[:,None]\n",
    "\n",
    "#periodic term\n",
    "f1_pred = gp1.predict(X_new, point=mp, given={\"gp\": gp, \"X\": X, \"y\": Y[:,0], \"noise\": sigma})\n",
    "y1_pred = gp1.predict(X_new, point=mp, given={\"gp\": gp, \"X\": X, \"y\": Y[:,0], \"noise\": sigma}, pred_noise=True)\n",
    "#linear term\n",
    "f2_pred = gp2.predict(X_new, point=mp, given={\"gp\": gp, \"X\": X, \"y\": Y[:,0], \"noise\": sigma})\n",
    "y2_pred = gp2.predict(X_new, point=mp, given={\"gp\": gp, \"X\": X, \"y\": Y[:,0], \"noise\": sigma}, pred_noise=True)\n",
    "#sum of periodic and linear term\n",
    "y_pred  = gp.predict(X_new, point=mp, given={\"gp\": gp, \"X\": X, \"y\": Y[:,0], \"noise\": sigma}, pred_noise=True)\n",
    "f_pred  = gp.predict(X_new, point=mp, given={\"gp\": gp, \"X\": X, \"y\": Y[:,0], \"noise\": sigma})\n",
    "\n",
    "\n",
    "#we sample 10 regression lines from the posterior\n",
    "sample_f = multivariate_normal(f_pred[0],f_pred[1]).rvs(50)\n",
    "\n",
    "plt.plot(X_new[:,0],sample_f.T,color='red',alpha=0.1)# regression lines\n",
    "plt.plot(X_new[:,0],f_pred[0])# this is the average line\n",
    "plt.plot(X, Y, 'og', ms=3, alpha=0.9, label=\"Observed data\", Zorder=1000);\n",
    "\n",
    "plt.figure()\n",
    "#we sample 10 regression lines from the posterior\n",
    "sample_y = multivariate_normal(y_pred[0],y_pred[1]).rvs(50)\n",
    "\n",
    "plt.plot(X_new[:,0],sample_y.T,color='red',alpha=0.1)# regression lines\n",
    "plt.plot(X_new[:,0],f_pred[0])# this is the average line\n",
    "plt.plot(X, Y, 'og', ms=3, alpha=0.9, label=\"Observed data\", Zorder=1000);"
   ]
  },
  {
   "cell_type": "code",
   "execution_count": null,
   "metadata": {},
   "outputs": [],
   "source": [
    "#we can recover the single components\n",
    "plt.plot(X_new[:,0],f1_pred[0])\n",
    "plt.plot(X_new[:,0],f2_pred[0])\n",
    "#plt.plot(X, y, 'or', ms=3, alpha=0.9, label=\"Observed data\");"
   ]
  },
  {
   "cell_type": "code",
   "execution_count": null,
   "metadata": {},
   "outputs": [],
   "source": [
    "# f2_pred[1][2]\n",
    "plt.plot(X_new[:,0],f2_pred[1][4])"
   ]
  },
  {
   "cell_type": "code",
   "execution_count": null,
   "metadata": {},
   "outputs": [],
   "source": [
    "Gradients = []\n",
    "for i in range(f2_pred[0].shape[0]):\n",
    "    Gradients.append(np.min(np.gradient(f2_pred[0][i,:], X)))\n"
   ]
  },
  {
   "cell_type": "code",
   "execution_count": null,
   "metadata": {},
   "outputs": [],
   "source": [
    "# f2_pred[0].shape\n",
    "#  X.reshape(100,)\n",
    "X.shape"
   ]
  },
  {
   "cell_type": "code",
   "execution_count": null,
   "metadata": {},
   "outputs": [],
   "source": [
    "# np.gradient(f2_pred[0])\n",
    "# np.gradient()\n",
    "# len(np.where(np.gradient(f2_pred[0],X_new[:,0])<0)[0])\n",
    "len(f2_pred[0])"
   ]
  },
  {
   "cell_type": "code",
   "execution_count": null,
   "metadata": {},
   "outputs": [],
   "source": [
    "# np.mean(f2_pred[1],axis=0)\n",
    "f2_pred[0]"
   ]
  },
  {
   "cell_type": "code",
   "execution_count": null,
   "metadata": {},
   "outputs": [],
   "source": [
    "def run_model(X,Y,plot=False):    \n",
    "    \n",
    "    with pm.Model() as model:\n",
    "        #  periodic component x \n",
    "#         ℓ_true = pm.HalfCauchy(\"η_per\", beta=2, testval=1.0)\n",
    "        η_true  = pm.Normal(\"η_true\", mu=0.1, sigma=3)\n",
    "        ℓ_true  = pm.Normal(\"ℓ_true\", mu=0.1, sigma=3)\n",
    "#         ℓ_psmooth = pm.Gamma(\"ℓ_psmooth \", alpha=1, beta=1)\n",
    "\n",
    "        cov_seasonal = η_true**2 * pm.gp.cov.ExpQuad(1, ℓ_true) # Maybe change this to 100 since its 100 dimentions   \n",
    "#         cov_seasonal = η_per**2 * pm.gp.cov.Periodic(1, period, ℓ_psmooth)\n",
    "        gp1 = pm.gp.Marginal(cov_func=cov_seasonal)\n",
    "\n",
    "        #  linear component x \n",
    "#         tau = pm.HalfCauchy(\"tau\", beta=2, testval=1.0)\n",
    "#         c  = pm.Normal(\"c\", mu=0, sigma=1) \n",
    "\n",
    "#         cov_linear = tau * pm.gp.cov.Linear(1, c)  \n",
    "        cov_linear = η_true**2 * pm.gp.cov.Matern32(1, ℓ_true)\n",
    "        gp2 = pm.gp.Marginal(cov_func=cov_linear)\n",
    "\n",
    "        # gp represents f1 + f2.\n",
    "        gp = gp1 + gp2\n",
    "\n",
    "        # noise model\n",
    "        sigma = pm.HalfCauchy(\"sigma\", beta=5, testval=0.1)\n",
    "        f = gp.marginal_likelihood(\"f\", X, Y[:,0], noise=sigma)\n",
    "\n",
    "        # this line calls an optimizer to optimize the marginal likelihood\n",
    "        mp = pm.find_MAP(include_transformed=True)\n",
    "        #we can do  an approximated inference\n",
    "#     with model:\n",
    "#         inference = pm.ADVI()\n",
    "#         approx = pm.fit(60000, method=inference)\n",
    "        \n",
    "#     posterior = approx.sample(draws=500)\n",
    "    \n",
    "#     all_prediction = np.dot(H,posterior['weights'].T).T\n",
    "#     non_periodic_prediction = np.dot(H_np,posterior['weights'][:,0:col_per].T).T\n",
    "    X_new = np.linspace(0, 1, 100)[:,None]\n",
    "\n",
    "    #periodic term\n",
    "    f1_pred = gp1.predict(X_new, point=mp, given={\"gp\": gp, \"X\": X, \"y\": Y[:,0], \"noise\": sigma})\n",
    "    y1_pred = gp1.predict(X_new, point=mp, given={\"gp\": gp, \"X\": X, \"y\": Y[:,0], \"noise\": sigma}, pred_noise=True)\n",
    "    #linear term\n",
    "    f2_pred = gp2.predict(X_new, point=mp, given={\"gp\": gp, \"X\": X, \"y\": Y[:,0], \"noise\": sigma})\n",
    "    y2_pred = gp2.predict(X_new, point=mp, given={\"gp\": gp, \"X\": X, \"y\": Y[:,0], \"noise\": sigma}, pred_noise=True)\n",
    "    #sum of periodic and linear term\n",
    "    y_pred  = gp.predict(X_new, point=mp, given={\"gp\": gp, \"X\": X, \"y\": Y[:,0], \"noise\": sigma}, pred_noise=True)\n",
    "    f_pred  = gp.predict(X_new, point=mp, given={\"gp\": gp, \"X\": X, \"y\": Y[:,0], \"noise\": sigma})\n",
    "\n",
    "    if plot==True:\n",
    "        plt.figure()\n",
    "        plt.plot(x,np.mean(f_pred,axis=0),'r', label='Overall Mean')\n",
    "        plt.plot(x,np.mean(f2_pred,axis=0),'b', label='Mean of the non-periodic comp.')\n",
    "        plt.legend()\n",
    "        plt.scatter(X,Y)\n",
    "#     Gradients = []\n",
    "#     for i in range(f2_pred[0].shape[0]):\n",
    "#         Gradients.append(np.min(np.gradient(f2_pred[1][i,:], X_new[:,0])))\n",
    "    \n",
    "#     posterior_probability_deriviative_is_positive = np.min(np.gradient(f2_pred[0], X_new[:,0]))\n",
    "    posterior_probability_deriviative_is_positive = len(np.where(np.gradient(f2_pred[0],X_new[:,0])>0)[0])/len(f2_pred[0])\n",
    "    print(\"probability that the function is increasing=\", posterior_probability_deriviative_is_positive)\n",
    "    if posterior_probability_deriviative_is_positive>0.8:\n",
    "        return 1\n",
    "    else:\n",
    "        return 0\n"
   ]
  },
  {
   "cell_type": "code",
   "execution_count": null,
   "metadata": {},
   "outputs": [],
   "source": [
    "# test_df = train.iloc[5:10,:]\n",
    "# test_df\n",
    "test_df= pd.read_csv('/kaggle/input/sales-forecast-et5003-competition/test.csv')\n",
    "test_df.head()"
   ]
  },
  {
   "cell_type": "code",
   "execution_count": null,
   "metadata": {},
   "outputs": [],
   "source": [
    "x = np.linspace(0,1,100)[:,None]\n",
    "Decision = pd.DataFrame(columns=['Id','Category'])\n",
    "for r in range(test_df.shape[0]):\n",
    "    id_row = test_df.iloc[r,0]\n",
    "    y = test_df.iloc[r,1:101].values[:,None]\n",
    "    decision = run_model(x,y)\n",
    "    Decision = Decision.append({'Id': int(id_row), 'Category': int(decision)}, ignore_index=True) \n",
    "#     print(Decision)\n",
    "\n",
    "Decision.to_csv('submission_1.csv')"
   ]
  }
 ],
 "metadata": {
  "kernelspec": {
   "display_name": "Python 3",
   "language": "python",
   "name": "python3"
  },
  "language_info": {
   "codemirror_mode": {
    "name": "ipython",
    "version": 3
   },
   "file_extension": ".py",
   "mimetype": "text/x-python",
   "name": "python",
   "nbconvert_exporter": "python",
   "pygments_lexer": "ipython3",
   "version": "3.7.3"
  }
 },
 "nbformat": 4,
 "nbformat_minor": 1
}
