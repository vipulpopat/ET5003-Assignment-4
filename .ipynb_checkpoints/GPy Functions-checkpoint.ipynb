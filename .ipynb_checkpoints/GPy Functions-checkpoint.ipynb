{
 "cells": [
  {
   "cell_type": "code",
   "execution_count": 3,
   "metadata": {},
   "outputs": [
    {
     "ename": "AttributeError",
     "evalue": "module 'GPy.kern' has no attribute '_src'",
     "output_type": "error",
     "traceback": [
      "\u001b[0;31m---------------------------------------------------------------------------\u001b[0m",
      "\u001b[0;31mAttributeError\u001b[0m                            Traceback (most recent call last)",
      "\u001b[0;32m<ipython-input-3-e70cdf7c0b63>\u001b[0m in \u001b[0;36m<module>\u001b[0;34m\u001b[0m\n\u001b[1;32m     11\u001b[0m     \u001b[0mKernel\u001b[0m \u001b[0;34m=\u001b[0m \u001b[0mgetattr\u001b[0m\u001b[0;34m(\u001b[0m\u001b[0mGPy\u001b[0m\u001b[0;34m.\u001b[0m\u001b[0mkern\u001b[0m\u001b[0;34m,\u001b[0m \u001b[0mkernel_name\u001b[0m\u001b[0;34m)\u001b[0m\u001b[0;34m\u001b[0m\u001b[0;34m\u001b[0m\u001b[0m\n\u001b[1;32m     12\u001b[0m \u001b[0;34m\u001b[0m\u001b[0m\n\u001b[0;32m---> 13\u001b[0;31m     \u001b[0;32mif\u001b[0m \u001b[0mKernel\u001b[0m\u001b[0;34m.\u001b[0m\u001b[0m__class__\u001b[0m \u001b[0;34m==\u001b[0m \u001b[0mGPy\u001b[0m\u001b[0;34m.\u001b[0m\u001b[0mkern\u001b[0m\u001b[0;34m.\u001b[0m\u001b[0mExponential\u001b[0m\u001b[0;34m.\u001b[0m\u001b[0m__class__\u001b[0m \u001b[0;34m==\u001b[0m \u001b[0mGPy\u001b[0m\u001b[0;34m.\u001b[0m\u001b[0mkern\u001b[0m\u001b[0;34m.\u001b[0m\u001b[0m_src\u001b[0m\u001b[0;34m.\u001b[0m\u001b[0mkernel_slice_operations\u001b[0m\u001b[0;34m.\u001b[0m\u001b[0mKernCallsViaSlicerMeta\u001b[0m\u001b[0;34m:\u001b[0m\u001b[0;34m\u001b[0m\u001b[0;34m\u001b[0m\u001b[0m\n\u001b[0m\u001b[1;32m     14\u001b[0m         \u001b[0;31m# Try plotting sample paths here\u001b[0m\u001b[0;34m\u001b[0m\u001b[0;34m\u001b[0m\u001b[0;34m\u001b[0m\u001b[0m\n\u001b[1;32m     15\u001b[0m         \u001b[0;32mtry\u001b[0m\u001b[0;34m:\u001b[0m\u001b[0;34m\u001b[0m\u001b[0;34m\u001b[0m\u001b[0m\n",
      "\u001b[0;31mAttributeError\u001b[0m: module 'GPy.kern' has no attribute '_src'"
     ]
    }
   ],
   "source": [
    "import numpy as np\n",
    "import matplotlib\n",
    "import pylab as pl   # the matplotlib for plotting\n",
    "from matplotlib import pyplot as plt\n",
    "import GPy\n",
    "import re\n",
    "from IPython.display import Math, display #This will display the equation of the kernel in picture form\n",
    "\n",
    "def get_equation(kern):\n",
    "    match = re.search(r'(math::)(\\r\\n|\\r|\\n)*(?P<equation>.*)(\\r\\n|\\r|\\n)*', kern.__doc__)\n",
    "    return '' if match is None else match.group('equation').strip()\n",
    "\n",
    "for kernel_name in dir(GPy.kern):\n",
    "    Kernel = getattr(GPy.kern, kernel_name)\n",
    "    \n",
    "    if Kernel.__class__ == GPy.kern.Exponential.__class__ == GPy.kern.src.kernel_slice_operations.KernCallsViaSlicerMeta:\n",
    "        # Try plotting sample paths here\n",
    "        try:\n",
    "            k = Kernel(input_dim=1)\n",
    "            \n",
    "            X = np.linspace(0.,1.,500) # define X to be 500 points evenly spaced over [0,1]\n",
    "            X = X[:,None] # reshape X to make it n*p --- we try to use 'design matrices' in GPy \n",
    "\n",
    "            mu = np.zeros((500))# vector of the means --- we could use a mean function here, but here it is just zero.\n",
    "            C = k.K(X,X) # compute the covariance matrix associated with inputs X\n",
    "\n",
    "            # Generate 20 separate samples paths from a Gaussian with mean mu and covariance C\n",
    "            Z = np.random.multivariate_normal(mu,C,20)\n",
    "\n",
    "                        \n",
    "            kernel_equation = get_equation(k)\n",
    "            #print kernel_equation\n",
    "            from IPython.display import Math, display\n",
    "            display(Math(kernel_equation))\n",
    "            \n",
    "            fig = plt.figure()     # open a new plotting window\n",
    "            plt.subplot(121)\n",
    "            for i in range(3):\n",
    "                plt.plot(X[:],Z[i,:])\n",
    "\n",
    "            plt.title('{} samples'.format(kernel_name))\n",
    "            \n",
    "            plt.subplot(122)\n",
    "            plt.imshow(C, interpolation='nearest')\n",
    "            plt.title('{} covariance'.format(kernel_name))\n",
    "        except:\n",
    "            continue"
   ]
  },
  {
   "cell_type": "code",
   "execution_count": null,
   "metadata": {},
   "outputs": [],
   "source": []
  }
 ],
 "metadata": {
  "kernelspec": {
   "display_name": "Python 3",
   "language": "python",
   "name": "python3"
  },
  "language_info": {
   "codemirror_mode": {
    "name": "ipython",
    "version": 3
   },
   "file_extension": ".py",
   "mimetype": "text/x-python",
   "name": "python",
   "nbconvert_exporter": "python",
   "pygments_lexer": "ipython3",
   "version": "3.7.3"
  }
 },
 "nbformat": 4,
 "nbformat_minor": 2
}
