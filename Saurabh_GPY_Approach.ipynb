{
 "cells": [
  {
   "cell_type": "code",
   "execution_count": null,
   "metadata": {},
   "outputs": [],
   "source": [
    "GPY\n",
    "In this model, we tried to use GPY as we were getting LinAlg errors while using PMYC3\n",
    "We tried to mix the Matern32 and RBF kernel in this case, as Matern32 can be used for long term trend prediction and RBF can fit \n",
    "in the actual data, so if RBF is able to predict the points, then Matern32 can pick the non seasonal trend.\n",
    "We used Matern32 for prediction to capture the non seasonal trend"
   ]
  },
  {
   "cell_type": "code",
   "execution_count": null,
   "metadata": {},
   "outputs": [],
   "source": [
    "import GPy\n",
    "def run_model(X,Y,plot=False):    \n",
    "    # define kernel\n",
    "    bias = GPy.kern.Bias(1,variance=1.)\n",
    "    ker1 = GPy.kern.Matern32(1)\n",
    "    ker5 = GPy.kern.RBF(1) \n",
    "\n",
    "    # create a GP model\n",
    "    model = GPy.models.GPRegression(X,Y,kernel=bias+ker1+ker5)\n",
    "\n",
    "\n",
    "    # it finds the optimal parameters of the RBF kernel by maxisiming the marginal likelihood \n",
    "    model.optimize_restarts(5)# this maximise the marginal likelihood, with random restarts\n",
    "    #we  plot it\n",
    "    X_new = np.linspace(0, 1, 100)[:,None]\n",
    "    f_pred, sigm2_pred = model.predict(X_new, kern=ker1)\n",
    "\n",
    "    posterior_probability_deriviative_is_positive = len(np.where(np.gradient(f_pred[:,0],X_new[:,0])>0)[0])/len(f_pred[:,0])\n",
    "    print(\"probability that the function is increasing =\", posterior_probability_deriviative_is_positive)\n",
    "    if posterior_probability_deriviative_is_positive>=0.95:\n",
    "        return 1\n",
    "    else:\n",
    "        return 0"
   ]
  },
  {
   "cell_type": "code",
   "execution_count": null,
   "metadata": {},
   "outputs": [],
   "source": [
    "test_df = pd.read_csv('/kaggle/input/sales-forecast-et5003-competition/test.csv')"
   ]
  },
  {
   "cell_type": "code",
   "execution_count": null,
   "metadata": {},
   "outputs": [],
   "source": [
    "x = np.linspace(0,1,100)[:,None]\n",
    "Decision = pd.DataFrame(columns=['Id','Category'])\n",
    "# train_df.shape[0]\n",
    "for r in range(test_df.shape[0]):\n",
    "    id_row = test_df.iloc[r,0]\n",
    "    y = test_df.iloc[r,1:101].values[:,None]\n",
    "    decision = run_model(x,y)\n",
    "    Decision = Decision.append({'Id': int(id_row), 'Category': int(decision)}, ignore_index=True) "
   ]
  },
  {
   "cell_type": "code",
   "execution_count": null,
   "metadata": {},
   "outputs": [],
   "source": [
    "This  model gave us ~70% accuracy on leader board"
   ]
  },
  {
   "cell_type": "code",
   "execution_count": null,
   "metadata": {},
   "outputs": [],
   "source": []
  }
 ],
 "metadata": {
  "kernelspec": {
   "display_name": "Python 3",
   "language": "python",
   "name": "python3"
  },
  "language_info": {
   "codemirror_mode": {
    "name": "ipython",
    "version": 3
   },
   "file_extension": ".py",
   "mimetype": "text/x-python",
   "name": "python",
   "nbconvert_exporter": "python",
   "pygments_lexer": "ipython3",
   "version": "3.6.9"
  }
 },
 "nbformat": 4,
 "nbformat_minor": 2
}
